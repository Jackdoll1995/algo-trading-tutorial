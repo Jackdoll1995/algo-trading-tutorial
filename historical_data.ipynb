{
 "cells": [
  {
   "cell_type": "markdown",
   "id": "7a5195c9-b6c2-4ea4-983b-7eafe2fc5e46",
   "metadata": {},
   "source": [
    "# Credentials"
   ]
  },
  {
   "cell_type": "code",
   "execution_count": null,
   "id": "b5e5effd-d2b0-4af5-9c03-5981d7da1740",
   "metadata": {},
   "outputs": [],
   "source": [
    "%store -r api_key\n",
    "%store -r secret_key"
   ]
  },
  {
   "cell_type": "markdown",
   "id": "253272a6-810b-4b2b-bf61-61f0a2681617",
   "metadata": {},
   "source": [
    "# Getting historical data (OHLC & Volumn)"
   ]
  },
  {
   "cell_type": "code",
   "execution_count": null,
   "id": "0598b8a5-c909-4e9f-bf4c-05e17800f062",
   "metadata": {},
   "outputs": [],
   "source": []
  }
 ],
 "metadata": {
  "kernelspec": {
   "display_name": "Python [conda env:base] *",
   "language": "python",
   "name": "conda-base-py"
  },
  "language_info": {
   "codemirror_mode": {
    "name": "ipython",
    "version": 3
   },
   "file_extension": ".py",
   "mimetype": "text/x-python",
   "name": "python",
   "nbconvert_exporter": "python",
   "pygments_lexer": "ipython3",
   "version": "3.12.7"
  }
 },
 "nbformat": 4,
 "nbformat_minor": 5
}
